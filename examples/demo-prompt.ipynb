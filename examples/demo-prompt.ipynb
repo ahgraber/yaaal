{
 "cells": [
  {
   "cell_type": "markdown",
   "metadata": {},
   "source": [
    "# Demo: Prompts\n",
    "\n",
    "The base unit is a `Message(role, context)`, which has generally been accepted by all LLM chat APIs.\n",
    "\n",
    "A list of Messages is a `Conversation`, which provides easy conversion to a messages array for API calls.\n",
    "\n",
    "> _Hint: `yaaal` provides a `format_json()` function that pretty formats json for printing, logging, and debugging_\n",
    "\n",
    "Sometimes we may want to predefine the messages in the conversation via MessageTemplates.\n",
    "A `MessageTemplate` defines the role, the template, and the rendering method to generate a Message.\n",
    "It may also add variable validation with Pydantic through the `template_vars_model` attribute.\n",
    "\n",
    "- `StaticMessageTemplate` provides a prompt template that is not templated, that is, there are no template variables and it renders exactly the same string every time.\n",
    "- `StringMessageTemplate` uses string templates (_`$varname`, not `{varname}`!_) to render a templated string based on a dict provided at render-time.\n",
    "- `JinjaMessageTemplate` uses a jinja2 Template to render a templated string based on a dict provided at render-time.\n",
    "\n",
    "A `Prompt` is a way to use various MessageTemplates to render a `Conversation`.\n",
    "We may want to treat Prompts as Functions or Tools for the tool-calling API;\n",
    "Prompts provide a `signature` method to mock a function signature that details all of the template variables necessary."
   ]
  },
  {
   "cell_type": "code",
   "execution_count": null,
   "metadata": {},
   "outputs": [],
   "source": [
    "import logging\n",
    "\n",
    "from pydantic import BaseModel, Field, create_model\n",
    "\n",
    "from yaaal.core.prompt import JinjaMessageTemplate, Prompt, StaticMessageTemplate, StringMessageTemplate\n",
    "from yaaal.types.base import JSON\n",
    "from yaaal.types.core import Conversation, Message\n",
    "from yaaal.utilities import basic_log_config, format_json"
   ]
  },
  {
   "cell_type": "code",
   "execution_count": null,
   "metadata": {},
   "outputs": [],
   "source": [
    "%load_ext autoreload\n",
    "%autoreload 2"
   ]
  },
  {
   "cell_type": "code",
   "execution_count": null,
   "metadata": {},
   "outputs": [],
   "source": [
    "basic_log_config()\n",
    "logger = logging.getLogger(__name__)\n",
    "logger.setLevel(logging.INFO)"
   ]
  },
  {
   "cell_type": "markdown",
   "metadata": {},
   "source": [
    "## Quick Start"
   ]
  },
  {
   "cell_type": "code",
   "execution_count": null,
   "metadata": {},
   "outputs": [
    {
     "data": {
      "text/plain": [
       "{\n",
       "  \"role\": \"system\",\n",
       "  \"content\": \"You are a helpful assistant.\",\n",
       "}"
      ]
     },
     "execution_count": null,
     "metadata": {},
     "output_type": "execute_result"
    }
   ],
   "source": [
    "# A `StaticMessageTemplate` provides a prompt template that is not templated, that is, there are no template variables and it renders exactly the same string every time.\n",
    "\n",
    "template = StaticMessageTemplate(role=\"system\", template=\"You are a helpful assistant.\")\n",
    "template.render_message()"
   ]
  },
  {
   "cell_type": "code",
   "execution_count": null,
   "metadata": {},
   "outputs": [
    {
     "name": "stderr",
     "output_type": "stream",
     "text": [
      "2025-02-08 22:26:18,820 - WARNING  - yaaal.core.prompt - render_message:147 - Rendering template without variable validation!\n"
     ]
    },
    {
     "data": {
      "text/plain": [
       "{\n",
       "  \"role\": \"system\",\n",
       "  \"content\": \"You are a helpful assistant who specializes in Star Wars trivia.\",\n",
       "}"
      ]
     },
     "execution_count": null,
     "metadata": {},
     "output_type": "execute_result"
    }
   ],
   "source": [
    "# A `StringMessageTemplate` uses string templates (_`$varname`, not `{varname}`!_) to render a templated string based on a dict provided at render-time.\n",
    "\n",
    "template = StringMessageTemplate(role=\"system\", template=\"You are a helpful assistant who specializes in $expertise.\")\n",
    "template.render_message(template_vars={\"expertise\": \"Star Wars trivia\"})"
   ]
  },
  {
   "cell_type": "code",
   "execution_count": null,
   "metadata": {},
   "outputs": [
    {
     "name": "stderr",
     "output_type": "stream",
     "text": [
      "2025-02-08 22:26:18,829 - WARNING  - yaaal.core.prompt - render_message:247 - Rendering template without variable validation!\n"
     ]
    },
    {
     "data": {
      "text/plain": [
       "{\n",
       "  \"role\": \"system\",\n",
       "  \"content\": \"You are a helpful assistant who specializes in Star Wars trivia.\",\n",
       "}"
      ]
     },
     "execution_count": null,
     "metadata": {},
     "output_type": "execute_result"
    }
   ],
   "source": [
    "# A `JinjaMessageTemplate` uses a jinja2 Template to render a templated string based on a dict provided at render-time.\n",
    "\n",
    "template = JinjaMessageTemplate(\n",
    "    role=\"system\", template=\"You are a helpful assistant who specializes in {{expertise}}.\"\n",
    ")\n",
    "template.render_message(template_vars={\"expertise\": \"Star Wars trivia\"})"
   ]
  },
  {
   "cell_type": "markdown",
   "metadata": {},
   "source": [
    "Note that `yaaal` has logged a warning message when we rendered our `StringMessageTemplate` and `JinjaMessageTemplate` messages.\n",
    "This is because we did not provide a `template_vars_model` - a Pydantic model that defines the expectations for template variables."
   ]
  },
  {
   "cell_type": "code",
   "execution_count": null,
   "metadata": {},
   "outputs": [],
   "source": [
    "# create the Pydantic model that defines what we expect to accept as input\n",
    "\n",
    "\n",
    "class Expertise(BaseModel):\n",
    "    expertise: str"
   ]
  },
  {
   "cell_type": "code",
   "execution_count": null,
   "metadata": {},
   "outputs": [
    {
     "data": {
      "text/plain": [
       "{\n",
       "  \"role\": \"system\",\n",
       "  \"content\": \"You are a helpful assistant who specializes in Star Wars trivia.\",\n",
       "}"
      ]
     },
     "execution_count": null,
     "metadata": {},
     "output_type": "execute_result"
    }
   ],
   "source": [
    "# use our model to validate the input\n",
    "\n",
    "template = JinjaMessageTemplate(\n",
    "    role=\"system\",\n",
    "    template=\"You are a helpful assistant who specializes in {{expertise}}.\",\n",
    "    template_vars_model=Expertise,\n",
    ")\n",
    "template.render_message(template_vars={\"expertise\": \"Star Wars trivia\"})\n",
    "\n",
    "# No warning!"
   ]
  },
  {
   "cell_type": "code",
   "execution_count": null,
   "metadata": {},
   "outputs": [
    {
     "ename": "ValidationError",
     "evalue": "1 validation error for Expertise\nexpertise\n  Input should be a valid string [type=string_type, input_value=8675309, input_type=int]\n    For further information visit https://errors.pydantic.dev/2.10/v/string_type",
     "output_type": "error",
     "traceback": [
      "\u001b[0;31m---------------------------------------------------------------------------\u001b[0m",
      "\u001b[0;31mValidationError\u001b[0m                           Traceback (most recent call last)",
      "Cell \u001b[0;32mIn[9], line 8\u001b[0m\n\u001b[1;32m      1\u001b[0m \u001b[38;5;66;03m# An invalid input will raise a ValidationError\u001b[39;00m\n\u001b[1;32m      3\u001b[0m template \u001b[38;5;241m=\u001b[39m JinjaMessageTemplate(\n\u001b[1;32m      4\u001b[0m     role\u001b[38;5;241m=\u001b[39m\u001b[38;5;124m\"\u001b[39m\u001b[38;5;124msystem\u001b[39m\u001b[38;5;124m\"\u001b[39m,\n\u001b[1;32m      5\u001b[0m     template\u001b[38;5;241m=\u001b[39m\u001b[38;5;124m\"\u001b[39m\u001b[38;5;124mYou are a helpful assistant who specializes in \u001b[39m\u001b[38;5;124m{{\u001b[39m\u001b[38;5;124mexpertise}}.\u001b[39m\u001b[38;5;124m\"\u001b[39m,\n\u001b[1;32m      6\u001b[0m     template_vars_model\u001b[38;5;241m=\u001b[39mExpertise,\n\u001b[1;32m      7\u001b[0m )\n\u001b[0;32m----> 8\u001b[0m \u001b[43mtemplate\u001b[49m\u001b[38;5;241;43m.\u001b[39;49m\u001b[43mrender_message\u001b[49m\u001b[43m(\u001b[49m\u001b[43mtemplate_vars\u001b[49m\u001b[38;5;241;43m=\u001b[39;49m\u001b[43m{\u001b[49m\u001b[38;5;124;43m\"\u001b[39;49m\u001b[38;5;124;43mexpertise\u001b[39;49m\u001b[38;5;124;43m\"\u001b[39;49m\u001b[43m:\u001b[49m\u001b[43m \u001b[49m\u001b[38;5;241;43m8675309\u001b[39;49m\u001b[43m}\u001b[49m\u001b[43m)\u001b[49m\n",
      "File \u001b[0;32m~/_code/yaaal/src/yaaal/core/prompt.py:251\u001b[0m, in \u001b[0;36mJinjaMessageTemplate.render_message\u001b[0;34m(self, template_vars)\u001b[0m\n\u001b[1;32m    248\u001b[0m     \u001b[38;5;28;01mreturn\u001b[39;00m Message(role\u001b[38;5;241m=\u001b[39m\u001b[38;5;28mself\u001b[39m\u001b[38;5;241m.\u001b[39mrole, content\u001b[38;5;241m=\u001b[39m\u001b[38;5;28mself\u001b[39m\u001b[38;5;241m.\u001b[39mtemplate\u001b[38;5;241m.\u001b[39mrender(\u001b[38;5;241m*\u001b[39m\u001b[38;5;241m*\u001b[39mvars_))\n\u001b[1;32m    250\u001b[0m \u001b[38;5;28;01melse\u001b[39;00m:\n\u001b[0;32m--> 251\u001b[0m     validated_vars \u001b[38;5;241m=\u001b[39m \u001b[38;5;28;43mself\u001b[39;49m\u001b[38;5;241;43m.\u001b[39;49m\u001b[43mtemplate_vars_model\u001b[49m\u001b[43m(\u001b[49m\u001b[38;5;241;43m*\u001b[39;49m\u001b[38;5;241;43m*\u001b[39;49m\u001b[43mvars_\u001b[49m\u001b[43m)\u001b[49m\u001b[38;5;241m.\u001b[39mmodel_dump()\n\u001b[1;32m    252\u001b[0m     \u001b[38;5;28;01mreturn\u001b[39;00m Message(role\u001b[38;5;241m=\u001b[39m\u001b[38;5;28mself\u001b[39m\u001b[38;5;241m.\u001b[39mrole, content\u001b[38;5;241m=\u001b[39m\u001b[38;5;28mself\u001b[39m\u001b[38;5;241m.\u001b[39mtemplate\u001b[38;5;241m.\u001b[39mrender(\u001b[38;5;241m*\u001b[39m\u001b[38;5;241m*\u001b[39mvalidated_vars))\n",
      "File \u001b[0;32m~/_code/yaaal/.venv/lib/python3.12/site-packages/pydantic/main.py:214\u001b[0m, in \u001b[0;36mBaseModel.__init__\u001b[0;34m(self, **data)\u001b[0m\n\u001b[1;32m    212\u001b[0m \u001b[38;5;66;03m# `__tracebackhide__` tells pytest and some other tools to omit this function from tracebacks\u001b[39;00m\n\u001b[1;32m    213\u001b[0m __tracebackhide__ \u001b[38;5;241m=\u001b[39m \u001b[38;5;28;01mTrue\u001b[39;00m\n\u001b[0;32m--> 214\u001b[0m validated_self \u001b[38;5;241m=\u001b[39m \u001b[38;5;28;43mself\u001b[39;49m\u001b[38;5;241;43m.\u001b[39;49m\u001b[43m__pydantic_validator__\u001b[49m\u001b[38;5;241;43m.\u001b[39;49m\u001b[43mvalidate_python\u001b[49m\u001b[43m(\u001b[49m\u001b[43mdata\u001b[49m\u001b[43m,\u001b[49m\u001b[43m \u001b[49m\u001b[43mself_instance\u001b[49m\u001b[38;5;241;43m=\u001b[39;49m\u001b[38;5;28;43mself\u001b[39;49m\u001b[43m)\u001b[49m\n\u001b[1;32m    215\u001b[0m \u001b[38;5;28;01mif\u001b[39;00m \u001b[38;5;28mself\u001b[39m \u001b[38;5;129;01mis\u001b[39;00m \u001b[38;5;129;01mnot\u001b[39;00m validated_self:\n\u001b[1;32m    216\u001b[0m     warnings\u001b[38;5;241m.\u001b[39mwarn(\n\u001b[1;32m    217\u001b[0m         \u001b[38;5;124m'\u001b[39m\u001b[38;5;124mA custom validator is returning a value other than `self`.\u001b[39m\u001b[38;5;130;01m\\n\u001b[39;00m\u001b[38;5;124m'\u001b[39m\n\u001b[1;32m    218\u001b[0m         \u001b[38;5;124m\"\u001b[39m\u001b[38;5;124mReturning anything other than `self` from a top level model validator isn\u001b[39m\u001b[38;5;124m'\u001b[39m\u001b[38;5;124mt supported when validating via `__init__`.\u001b[39m\u001b[38;5;130;01m\\n\u001b[39;00m\u001b[38;5;124m\"\u001b[39m\n\u001b[1;32m    219\u001b[0m         \u001b[38;5;124m'\u001b[39m\u001b[38;5;124mSee the `model_validator` docs (https://docs.pydantic.dev/latest/concepts/validators/#model-validators) for more details.\u001b[39m\u001b[38;5;124m'\u001b[39m,\n\u001b[1;32m    220\u001b[0m         stacklevel\u001b[38;5;241m=\u001b[39m\u001b[38;5;241m2\u001b[39m,\n\u001b[1;32m    221\u001b[0m     )\n",
      "\u001b[0;31mValidationError\u001b[0m: 1 validation error for Expertise\nexpertise\n  Input should be a valid string [type=string_type, input_value=8675309, input_type=int]\n    For further information visit https://errors.pydantic.dev/2.10/v/string_type"
     ]
    }
   ],
   "source": [
    "# An invalid input will raise a ValidationError\n",
    "\n",
    "template = JinjaMessageTemplate(\n",
    "    role=\"system\",\n",
    "    template=\"You are a helpful assistant who specializes in {{expertise}}.\",\n",
    "    template_vars_model=Expertise,\n",
    ")\n",
    "template.render_message(template_vars={\"expertise\": 8675309})"
   ]
  },
  {
   "cell_type": "markdown",
   "metadata": {},
   "source": [
    "## Example\n",
    "\n",
    "Objective: Define a `Prompt` that provides a summarizes web content, with validation (this is a replica of the Summarizer Prompt provided as one of `yaaal`'s default Prompts)\n",
    "\n",
    "- Define system prompt template\n",
    "- Define user prompt template\n",
    "- Define output format"
   ]
  },
  {
   "cell_type": "markdown",
   "metadata": {},
   "source": [
    "### Templates\n",
    "\n",
    "It is often easiest to start by drafting the instructions / system template before defining input/output validators.\n",
    "Ultimately, the order doesn't particularly matter, except that all of the moving pieces must be defined before we use them to create the `Prompt`.\n",
    "\n",
    "> _Hint:_ [OpenAI](https://platform.openai.com/docs/guides/prompt-generation) and [Anthropic](https://www.anthropic.com/news/prompt-improver) provide meta-prompts that can help generate a well-defined set of instructions."
   ]
  },
  {
   "cell_type": "code",
   "execution_count": null,
   "metadata": {},
   "outputs": [],
   "source": [
    "# this is a jinja string.\n",
    "# Jinja is a powerful templating language that lets us do things like loop over variables (see 'for source in sources' at end)\n",
    "summarizer_system_template_str = \"\"\"\n",
    "You are an AI research assistant. Your task is to summarize a piece of content and synthesize key takeaways. The user may provide additional guidance for topics of interest or directions for investigation.\n",
    "\n",
    "Please follow these steps to complete your task:\n",
    "\n",
    "1. Carefully read and analyze the provided content.\n",
    "2. Summarize the main points of the content. Your summary should be detailed and comprehensive, capturing the essence of the content and the source's relevance with respect to the user's guidance.\n",
    "3. If it exists, consider the user-provided guidance and ensure that your summary and analysis address the specified topics of interest or directions for investigation.\n",
    "4. The summary may use up to three paragraphs to highlight the main idea, argument or goal, clarify critical information, and identify actionable insights or key takeaways.\n",
    "5. Present your analysis adhering to the following json schema:\n",
    "\n",
    "<schema>\n",
    "{{summary_schema}}\n",
    "</schema>\n",
    "\n",
    "Here is the source you need to analyze:\n",
    "\n",
    "<sources>\n",
    "{% for source in sources %}\n",
    "    <source>\n",
    "    {{source}}\n",
    "    </source>\n",
    "{% endfor %}\n",
    "</sources>\n",
    "\"\"\".strip()"
   ]
  },
  {
   "cell_type": "markdown",
   "metadata": {},
   "source": [
    "We will create Pydantic BaseModels to define our expectations around the source (`URLContent`, input) and response (`Summary`, output) schemas.  Note that the Summary schema used to validate the model response is also used to tell the model how to response in the system template!"
   ]
  },
  {
   "cell_type": "code",
   "execution_count": null,
   "metadata": {},
   "outputs": [],
   "source": [
    "# Assume our \"sources\" come as URLContent objects\n",
    "class URLContent(BaseModel, extra=\"ignore\"):\n",
    "    \"\"\"Text content from a webpage.\"\"\"\n",
    "\n",
    "    url: str = Field(description=\"The webpage url\")\n",
    "    title: str = Field(description=\"The page title\")\n",
    "    content: str = Field(description=\"The webpage's text content\")\n",
    "\n",
    "\n",
    "# We want our output to have the Summary structure\n",
    "class Summary(BaseModel, extra=\"ignore\"):\n",
    "    url: str  # Annotated[str, AnyHttpUrl]\n",
    "    title: str\n",
    "    summary: str = Field(\n",
    "        description=\"A comprehensive but concise summary of the source content that captures the essence of the original information.\"\n",
    "    )\n",
    "\n",
    "\n",
    "# This will ensure all inputs into the system template are valid\n",
    "class SummarizerSystemVarsValidator(BaseModel):\n",
    "    sources: list[URLContent] = Field(description=\"The text to be analyzed\", min_length=1)\n",
    "    summary_schema: dict[str, JSON] = Summary.model_json_schema()"
   ]
  },
  {
   "cell_type": "markdown",
   "metadata": {},
   "source": [
    "Now we can construct and test the system prompt template"
   ]
  },
  {
   "cell_type": "code",
   "execution_count": null,
   "metadata": {},
   "outputs": [],
   "source": [
    "summarizer_system_template = JinjaMessageTemplate(\n",
    "    role=\"system\",\n",
    "    template=summarizer_system_template_str,\n",
    "    template_vars_model=SummarizerSystemVarsValidator,\n",
    ")"
   ]
  },
  {
   "cell_type": "code",
   "execution_count": null,
   "metadata": {},
   "outputs": [
    {
     "data": {
      "text/plain": [
       "{\n",
       "  \"role\": \"system\",\n",
       "  \"content\": \"You are an AI research assistant. Your task is to summarize a piece of \n",
       "              content and synthesize key takeaways. The user may provide additional \n",
       "              guidance for topics of interest or directions for investigation.             \n",
       "             \n",
       "             Please follow these steps to complete your task:             \n",
       "             \n",
       "             1. Carefully read and analyze the provided content.             \n",
       "             2. Summarize the main points of the content. Your summary should be \n",
       "              detailed and comprehensive, capturing the essence of the content and the \n",
       "              source's relevance with respect to the user's guidance.             \n",
       "             3. If it exists, consider the user-provided guidance and ensure that your \n",
       "              summary and analysis address the specified topics of interest or \n",
       "              directions for investigation.             \n",
       "             4. The summary may use up to three paragraphs to highlight the main idea, \n",
       "              argument or goal, clarify critical information, and identify actionable \n",
       "              insights or key takeaways.             \n",
       "             5. Present your analysis adhering to the following json schema:             \n",
       "             \n",
       "             <schema>             \n",
       "             {'properties': {'url': {'title': 'Url', 'type': 'string'}, 'title': \n",
       "              {'title': 'Title', 'type': 'string'}, 'summary': {'description': 'A \n",
       "              comprehensive but concise summary of the source content that captures the\n",
       "               essence of the original information.', 'title': 'Summary', 'type': \n",
       "              'string'}}, 'required': ['url', 'title', 'summary'], 'title': 'Summary', \n",
       "              'type': 'object'}             \n",
       "             </schema>             \n",
       "             \n",
       "             Here is the source you need to analyze:             \n",
       "             \n",
       "             <sources>             \n",
       "             \n",
       "                 <source>             \n",
       "                 {'url': 'http://this.is/an/example', 'title': 'example', 'content': \n",
       "              'Lorem ipsum dolor sit amet, consectetur adipiscing elit, sed do eiusmod \n",
       "              tempor incididunt ut labore et dolore magna aliqua'}             \n",
       "                 </source>             \n",
       "             \n",
       "             </sources>\",\n",
       "}"
      ]
     },
     "execution_count": null,
     "metadata": {},
     "output_type": "execute_result"
    }
   ],
   "source": [
    "# per our SummarizerSystemVarsValidator, our system template expects:\n",
    "# - sources, list of URLContent objects\n",
    "# - summary_schema, the json schema for the output (which is provided by default)\n",
    "summarizer_system_template.render_message(\n",
    "    template_vars={\n",
    "        \"sources\": [\n",
    "            URLContent(\n",
    "                url=\"http://this.is/an/example\",\n",
    "                title=\"example\",\n",
    "                content=\"Lorem ipsum dolor sit amet, consectetur adipiscing elit, sed do eiusmod tempor incididunt ut labore et dolore magna aliqua\",\n",
    "            )\n",
    "        ],\n",
    "        # \"summary_schema\": Summary.model_json_schema(), # this has a default value in SummarizerSystemVarsValidator\n",
    "    }\n",
    ")"
   ]
  },
  {
   "cell_type": "code",
   "execution_count": null,
   "metadata": {},
   "outputs": [],
   "source": [
    "# we use a passthrough prompt to allow the user to provide their input using string templates\n",
    "# a `PassthroughMessageTemplate` exists specifically for this reason;\n",
    "# This example just recreates it.\n",
    "summarizer_user_template_str = \"$content\"\n",
    "\n",
    "\n",
    "# This will ensure all inputs into the user template are valid\n",
    "class SummarizerUserVarsValidator(BaseModel):\n",
    "    content: str\n",
    "\n",
    "\n",
    "summarizer_user_template = StringMessageTemplate(\n",
    "    role=\"user\",\n",
    "    template=summarizer_user_template_str,\n",
    "    template_vars_model=SummarizerUserVarsValidator,\n",
    ")"
   ]
  },
  {
   "cell_type": "code",
   "execution_count": null,
   "metadata": {},
   "outputs": [
    {
     "data": {
      "text/plain": [
       "{\n",
       "  \"role\": \"user\",\n",
       "  \"content\": \"Tell me about quantum entanglement.\",\n",
       "}"
      ]
     },
     "execution_count": null,
     "metadata": {},
     "output_type": "execute_result"
    }
   ],
   "source": [
    "summarizer_user_template.render_message({\"content\": \"Tell me about quantum entanglement.\"})"
   ]
  },
  {
   "cell_type": "markdown",
   "metadata": {},
   "source": [
    "Great! We can use templates to render messages that change based on the variables we've configured, and we have validators that check to make sure the inputs are what we expect.\n",
    "\n",
    "Now, we want to combine the message templates into a conversation so we can send the whole thing to an LLM to receive a response.\n",
    "\n",
    "A `Prompt` is a way to use various MessageTemplates to render a `Conversation`.\n",
    "Prompts always require a system template (even if it's a static template), while user templates are optional.  This is because we may want the model to do something (e.g., extract text from a document into a structure format) that needs a system instruction for what to do, but has no further user input.\n",
    "\n",
    "Conveniently, our Prompt uses the templates we just defined."
   ]
  },
  {
   "cell_type": "code",
   "execution_count": null,
   "metadata": {},
   "outputs": [],
   "source": [
    "summarizer_prompt = Prompt(\n",
    "    name=\"Summarizer\",\n",
    "    description=\"Summarizes the content of web page(s)\",\n",
    "    system_template=summarizer_system_template,\n",
    "    user_template=summarizer_user_template,\n",
    ")"
   ]
  },
  {
   "cell_type": "code",
   "execution_count": null,
   "metadata": {},
   "outputs": [
    {
     "data": {
      "text/plain": [
       "{\n",
       "  \"messages\": [\n",
       "    {\n",
       "      \"role\": \"system\",\n",
       "      \"content\": \"You are an AI research assistant. Your task is to summarize a \n",
       "                  piece of content and synthesize key takeaways. The user may \n",
       "                  provide additional guidance for topics of interest or directions \n",
       "                  for investigation.                 \n",
       "                 \n",
       "                 Please follow these steps to complete your task:                 \n",
       "                 \n",
       "                 1. Carefully read and analyze the provided content.                 \n",
       "                 2. Summarize the main points of the content. Your summary should \n",
       "                  be detailed and comprehensive, capturing the essence of the \n",
       "                  content and the source's relevance with respect to the user's \n",
       "                  guidance.                 \n",
       "                 3. If it exists, consider the user-provided guidance and ensure \n",
       "                  that your summary and analysis address the specified topics of \n",
       "                  interest or directions for investigation.                 \n",
       "                 4. The summary may use up to three paragraphs to highlight the \n",
       "                  main idea, argument or goal, clarify critical information, and \n",
       "                  identify actionable insights or key takeaways.                 \n",
       "                 5. Present your analysis adhering to the following json schema:                 \n",
       "                 \n",
       "                 <schema>                 \n",
       "                 {'properties': {'url': {'title': 'Url', 'type': 'string'}, \n",
       "                  'title': {'title': 'Title', 'type': 'string'}, 'summary': \n",
       "                  {'description': 'A comprehensive but concise summary of the \n",
       "                  source content that captures the essence of the original \n",
       "                  information.', 'title': 'Summary', 'type': 'string'}}, \n",
       "                  'required': ['url', 'title', 'summary'], 'title': 'Summary', \n",
       "                  'type': 'object'}                 \n",
       "                 </schema>                 \n",
       "                 \n",
       "                 Here is the source you need to analyze:                 \n",
       "                 \n",
       "                 <sources>                 \n",
       "                 \n",
       "                     <source>                 \n",
       "                     {'url': 'http://this.is/an/example', 'title': 'example', \n",
       "                  'content': 'Lorem ipsum dolor sit amet, consectetur adipiscing \n",
       "                  elit, sed do eiusmod tempor incididunt ut labore et dolore magna \n",
       "                  aliqua'}                 \n",
       "                     </source>                 \n",
       "                 \n",
       "                 </sources>\",\n",
       "    },\n",
       "    {\n",
       "      \"role\": \"user\",\n",
       "      \"content\": \"Tell me about quantum entanglement.\",\n",
       "    },\n",
       "  ],\n",
       "}"
      ]
     },
     "execution_count": null,
     "metadata": {},
     "output_type": "execute_result"
    }
   ],
   "source": [
    "# instead of the template's `template_vars` parameter, now we make a distinction between `system_vars` and `user_vars` to properly associate the inputs with the template\n",
    "summarizer_prompt.render(\n",
    "    system_vars={\n",
    "        \"sources\": [\n",
    "            URLContent(\n",
    "                url=\"http://this.is/an/example\",\n",
    "                title=\"example\",\n",
    "                content=\"Lorem ipsum dolor sit amet, consectetur adipiscing elit, sed do eiusmod tempor incididunt ut labore et dolore magna aliqua\",\n",
    "            )\n",
    "        ],\n",
    "        # \"summary_schema\": Summary.model_json_schema(), # this has a default value in SummarizerSystemVarsValidator\n",
    "    },\n",
    "    user_vars={\"content\": \"Tell me about quantum entanglement.\"},\n",
    ")"
   ]
  },
  {
   "cell_type": "markdown",
   "metadata": {},
   "source": [
    "You may notice that we had to provide `name` and `description` arguments to our Prompt.\n",
    "\n",
    "This is because we may want to treat the Prompt as a tool for function-calling.  Tool use works best when the tools have a descriptive name and detailed description about their function so the LLM can determine when they are appropriate to use.\n",
    "\n",
    "Concretely, `Prompt.signature()` returns a Pydantic model that defines the function signature of `Prompt.render()` for this use case.\n",
    "We can convert the signature to a json schema with `model_json_schema()`, or use something like openai's pydantic integration with `openai.pydantic_function_tool(summarizer_prompt.signature())`"
   ]
  },
  {
   "cell_type": "code",
   "execution_count": null,
   "metadata": {},
   "outputs": [
    {
     "data": {
      "text/plain": [
       "yaaal.core.prompt.summarizer"
      ]
     },
     "metadata": {},
     "output_type": "display_data"
    },
    {
     "data": {
      "text/plain": [
       "pydantic._internal._model_construction.ModelMetaclass"
      ]
     },
     "metadata": {},
     "output_type": "display_data"
    }
   ],
   "source": [
    "# this is the BaseModel\n",
    "display(summarizer_prompt.signature)\n",
    "display(type(summarizer_prompt.signature))"
   ]
  },
  {
   "cell_type": "code",
   "execution_count": null,
   "metadata": {},
   "outputs": [
    {
     "name": "stdout",
     "output_type": "stream",
     "text": [
      "{\n",
      "  \"$defs\": {\n",
      "    \"JSON\": {\n",
      "      \"anyOf\": [\n",
      "        {\n",
      "          \"additionalProperties\": {\n",
      "            \"$ref\": \"#/$defs/JSON\",\n",
      "          },\n",
      "          \"type\": \"object\",\n",
      "        },\n",
      "        {\n",
      "          \"items\": {\n",
      "            \"$ref\": \"#/$defs/JSON\",\n",
      "          },\n",
      "          \"type\": \"array\",\n",
      "        },\n",
      "        {\n",
      "          \"type\": \"string\",\n",
      "        },\n",
      "        {\n",
      "          \"type\": \"integer\",\n",
      "        },\n",
      "        {\n",
      "          \"type\": \"number\",\n",
      "        },\n",
      "        {\n",
      "          \"type\": \"boolean\",\n",
      "        },\n",
      "        {\n",
      "          \"type\": \"null\",\n",
      "        },\n",
      "      ],\n",
      "    },\n",
      "    \"SummarizerSystemVarsValidator\": {\n",
      "      \"properties\": {\n",
      "        \"sources\": {\n",
      "          \"description\": \"The text to be analyzed\",\n",
      "          \"items\": {\n",
      "            \"$ref\": \"#/$defs/URLContent\",\n",
      "          },\n",
      "          \"minItems\": 1,\n",
      "          \"title\": \"Sources\",\n",
      "          \"type\": \"array\",\n",
      "        },\n",
      "        \"summary_schema\": {\n",
      "          \"additionalProperties\": {\n",
      "            \"$ref\": \"#/$defs/JSON\",\n",
      "          },\n",
      "          \"default\": {\n",
      "            \"properties\": {\n",
      "              \"url\": {\n",
      "                \"title\": \"Url\",\n",
      "                \"type\": \"string\",\n",
      "              },\n",
      "              \"title\": {\n",
      "                \"title\": \"Title\",\n",
      "                \"type\": \"string\",\n",
      "              },\n",
      "              \"summary\": {\n",
      "                \"description\": \"A comprehensive but concise summary of\n",
      "                                 the source content that captures the\n",
      "                                 essence of the original information.\",\n",
      "                \"title\": \"Summary\",\n",
      "                \"type\": \"string\",\n",
      "              },\n",
      "            },\n",
      "            \"required\": [\n",
      "              \"url\",\n",
      "              \"title\",\n",
      "              \"summary\",\n",
      "            ],\n",
      "            \"title\": \"Summary\",\n",
      "            \"type\": \"object\",\n",
      "          },\n",
      "          \"title\": \"Summary Schema\",\n",
      "          \"type\": \"object\",\n",
      "        },\n",
      "      },\n",
      "      \"required\": [\n",
      "        \"sources\",\n",
      "      ],\n",
      "      \"title\": \"SummarizerSystemVarsValidator\",\n",
      "      \"type\": \"object\",\n",
      "    },\n",
      "    \"SummarizerUserVarsValidator\": {\n",
      "      \"properties\": {\n",
      "        \"content\": {\n",
      "          \"title\": \"Content\",\n",
      "          \"type\": \"string\",\n",
      "        },\n",
      "      },\n",
      "      \"required\": [\n",
      "        \"content\",\n",
      "      ],\n",
      "      \"title\": \"SummarizerUserVarsValidator\",\n",
      "      \"type\": \"object\",\n",
      "    },\n",
      "    \"URLContent\": {\n",
      "      \"description\": \"Text content from a webpage.\",\n",
      "      \"properties\": {\n",
      "        \"url\": {\n",
      "          \"description\": \"The webpage url\",\n",
      "          \"title\": \"Url\",\n",
      "          \"type\": \"string\",\n",
      "        },\n",
      "        \"title\": {\n",
      "          \"description\": \"The page title\",\n",
      "          \"title\": \"Title\",\n",
      "          \"type\": \"string\",\n",
      "        },\n",
      "        \"content\": {\n",
      "          \"description\": \"The webpage's text content\",\n",
      "          \"title\": \"Content\",\n",
      "          \"type\": \"string\",\n",
      "        },\n",
      "      },\n",
      "      \"required\": [\n",
      "        \"url\",\n",
      "        \"title\",\n",
      "        \"content\",\n",
      "      ],\n",
      "      \"title\": \"URLContent\",\n",
      "      \"type\": \"object\",\n",
      "    },\n",
      "  },\n",
      "  \"description\": \"Summarizes the content of web page(s)\",\n",
      "  \"properties\": {\n",
      "    \"system_vars\": {\n",
      "      \"$ref\": \"#/$defs/SummarizerSystemVarsValidator\",\n",
      "    },\n",
      "    \"user_vars\": {\n",
      "      \"$ref\": \"#/$defs/SummarizerUserVarsValidator\",\n",
      "    },\n",
      "  },\n",
      "  \"required\": [\n",
      "    \"system_vars\",\n",
      "    \"user_vars\",\n",
      "  ],\n",
      "  \"title\": \"summarizer\",\n",
      "  \"type\": \"object\",\n",
      "}\n"
     ]
    }
   ],
   "source": [
    "# this is the json schema\n",
    "print(format_json(summarizer_prompt.schema))"
   ]
  },
  {
   "cell_type": "code",
   "execution_count": null,
   "metadata": {},
   "outputs": [],
   "source": []
  }
 ],
 "metadata": {
  "keep_output": true,
  "kernelspec": {
   "display_name": ".venv",
   "language": "python",
   "name": "python3"
  },
  "language_info": {
   "codemirror_mode": {
    "name": "ipython",
    "version": 3
   },
   "file_extension": ".py",
   "mimetype": "text/x-python",
   "name": "python",
   "nbconvert_exporter": "python",
   "pygments_lexer": "ipython3",
   "version": "3.12.7"
  }
 },
 "nbformat": 4,
 "nbformat_minor": 2
}
