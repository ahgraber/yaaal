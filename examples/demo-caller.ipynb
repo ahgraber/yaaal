{
 "cells": [
  {
   "cell_type": "markdown",
   "metadata": {},
   "source": [
    "# Demo: Callers\n",
    "\n",
    "A `Caller` is the basic structure that wraps all logic required for LLM call-and-response.\n",
    "\n",
    "A `Caller` associates a `Prompt` with a specific LLM client and call parameters (assumes OpenAI-compatibility through a framework like `aisuite`).\n",
    "This allows every Caller instance to use a different model and/or parameters, and sets expectations for the Caller instance.\n",
    "Whereas `Prompts` validate _inputs_ to the template and `Handlers` validate the LLM responses, `Callers` make it all happen.\n",
    "\n",
    "Additionally, `Callers` can be used as functions/tools in tool-calling workflows by leveraging `Caller.signature()` which provides the inputs the `Caller.prompt` requires as a JSON schema.\n",
    "Since a `Caller` has a specific client and model assigned, this effectively allows us to use Callers to route to specific models for specific use cases.\n",
    "Since Callers can behave as functions themselves, we enable complex workflows where Callers can call Callers (ad infinitum ad nauseum).\n",
    "\n",
    "Simple factory functions create Callers where the use case is defined by their handlers:\n",
    "\n",
    "- `ChatCaller`: a simple Caller implementation designed for chat messages without response validation.\n",
    "- `RegexCaller`: uses regex for response validation.\n",
    "- `StructuredCaller`:  is intended for structured responses, and uses Pydantic for response validation.\n",
    "- `ToolCaller`: a configuration for tool-use; can optionally invoke the tool based on arguments in the LLM's response and return the function results."
   ]
  },
  {
   "cell_type": "code",
   "execution_count": null,
   "metadata": {},
   "outputs": [],
   "source": [
    "import json\n",
    "import logging\n",
    "import os\n",
    "import re\n",
    "import textwrap\n",
    "from typing import cast\n",
    "\n",
    "import json_repair\n",
    "from pydantic import BaseModel, Field, ValidationError as PydanticValidationError, create_model\n",
    "\n",
    "import aisuite\n",
    "import openai\n",
    "\n",
    "from yaaal.core.caller import Caller, create_chat_caller, create_structured_caller, create_tool_caller\n",
    "from yaaal.core.handler import CompositeHandler, ResponseHandler, ToolHandler\n",
    "from yaaal.core.prompt import (\n",
    "    JinjaMessageTemplate,\n",
    "    PassthroughMessageTemplate,\n",
    "    Prompt,\n",
    "    StaticMessageTemplate,\n",
    "    StringMessageTemplate,\n",
    ")\n",
    "from yaaal.core.validator import PassthroughValidator, PydanticValidator, RegexValidator, ToolValidator\n",
    "from yaaal.types.base import JSON\n",
    "from yaaal.types.core import Conversation, Message\n",
    "from yaaal.utilities import basic_log_config, format_json"
   ]
  },
  {
   "cell_type": "code",
   "execution_count": null,
   "metadata": {},
   "outputs": [],
   "source": [
    "%load_ext autoreload\n",
    "%autoreload 2"
   ]
  },
  {
   "cell_type": "code",
   "execution_count": null,
   "metadata": {},
   "outputs": [],
   "source": [
    "basic_log_config()\n",
    "logging.getLogger(\"yaaal\").setLevel(logging.DEBUG)\n",
    "logger = logging.getLogger(__name__).setLevel(logging.DEBUG)"
   ]
  },
  {
   "cell_type": "markdown",
   "metadata": {},
   "source": [
    "## Quick Start"
   ]
  },
  {
   "cell_type": "code",
   "execution_count": null,
   "metadata": {},
   "outputs": [],
   "source": [
    "# all Callers require a client and a model to call.\n",
    "# `yaaal` is built around OpenAI-compatible APIs primarily provided by `aisuite`\n",
    "client = aisuite.Client(\n",
    "    provider_configs={\n",
    "        \"openai\": {\"api_key\": os.environ[\"YAAAL_OPENAI_API_KEY\"]},\n",
    "        \"anthropic\": {\"api_key\": os.environ[\"YAAAL_ANTHROPIC_API_KEY\"]},\n",
    "        # ...\n",
    "    }\n",
    ")\n",
    "# `aisuite` specifies models in \"provider:model\" format\n",
    "model = \"openai:gpt-4o-mini\""
   ]
  },
  {
   "cell_type": "code",
   "execution_count": null,
   "metadata": {},
   "outputs": [
    {
     "name": "stderr",
     "output_type": "stream",
     "text": [
      "2025-02-09 15:26:33,068 - DEBUG    - yaaal.core.caller - request_params:109 - All API requests for Caller will use params : {'temperature': 0.7}\n"
     ]
    }
   ],
   "source": [
    "# A `ChatCaller`\n",
    "caller = create_chat_caller(\n",
    "    client=client,\n",
    "    model=model,\n",
    "    request_params={\"temperature\": 0.7},\n",
    "    prompt=Prompt(\n",
    "        name=\"chat\",\n",
    "        description=\"A simple chat\",\n",
    "        system_template=StaticMessageTemplate(role=\"system\", template=\"You are a helpful assistant\"),\n",
    "        user_template=PassthroughMessageTemplate(),\n",
    "    ),\n",
    ")"
   ]
  },
  {
   "cell_type": "code",
   "execution_count": null,
   "metadata": {},
   "outputs": [],
   "source": [
    "# callers can still render conversations through their prompt\n",
    "caller.prompt.render(user_vars={\"content\": \"Who is Harry Potter?\"})"
   ]
  },
  {
   "cell_type": "code",
   "execution_count": null,
   "metadata": {},
   "outputs": [
    {
     "name": "stdout",
     "output_type": "stream",
     "text": [
      "Harry Potter is a fictional character and the protagonist of the\n",
      "\"Harry Potter\" series of novels written by British author J.K.\n",
      "Rowling. The series follows Harry's journey from a young boy living\n",
      "with his neglectful relatives, the Dursleys, to becoming a student at\n",
      "Hogwarts School of Witchcraft and Wizardry. He discovers that he is a\n",
      "wizard and learns about his past, including the fact that he is famous\n",
      "in the wizarding world for surviving an attack by the dark wizard Lord\n",
      "Voldemort when he was just a baby.\n",
      "\n",
      "The series consists of seven\n",
      "books: \n",
      "\n",
      "1. Harry Potter and the Sorcerer's Stone (also known as Harry\n",
      "Potter and the Philosopher's Stone)\n",
      "2. Harry Potter and the Chamber of\n",
      "Secrets\n",
      "3. Harry Potter and the Prisoner of Azkaban\n",
      "4. Harry Potter\n",
      "and the Goblet of Fire\n",
      "5. Harry Potter and the Order of the Phoenix\n",
      "6.\n",
      "Harry Potter and the Half-Blood Prince\n",
      "7. Harry Potter and the Deathly\n",
      "Hallows\n",
      "\n",
      "Throughout the series, Harry is joined by his friends\n",
      "Hermione Granger and Ron Weasley as they face various challenges,\n",
      "uncover mysteries, and ultimately confront Voldemort and his\n",
      "followers. The books explore themes of friendship, bravery, love, and\n",
      "the struggle between good and evil. The series has gained immense\n",
      "popularity and has been adapted into a successful film franchise,\n",
      "stage play, and various spin-off works.\n"
     ]
    }
   ],
   "source": [
    "# callers are called as functions to get the response from the LLM\n",
    "response = caller(system_vars=None, user_vars={\"content\": \"Who is Harry Potter?\"})\n",
    "\n",
    "print(textwrap.fill(response, replace_whitespace=False))"
   ]
  },
  {
   "cell_type": "code",
   "execution_count": null,
   "metadata": {},
   "outputs": [],
   "source": [
    "# Caller `schema` attribute is based on their Prompt signature\n",
    "print(format_json(caller.schema))"
   ]
  },
  {
   "cell_type": "code",
   "execution_count": null,
   "metadata": {},
   "outputs": [
    {
     "name": "stderr",
     "output_type": "stream",
     "text": [
      "2025-02-09 15:27:40,785 - DEBUG    - yaaal.core.caller - request_params:109 - All API requests for Caller will use params : {'temperature': 0.7}\n"
     ]
    }
   ],
   "source": [
    "# A `RegexCaller` validates the response with a regex pattern\n",
    "pattern = re.compile(r\"\\b[A-E]\\b(?!.*\\b[A-E]\\b)\")\n",
    "\n",
    "template_str = \"\"\"\n",
    "\"The following are multiple choice questions (with answers) about Star Wars.\n",
    "\n",
    "What is the model designation of an X-Wing?\n",
    "A. T-65B\n",
    "B. BTL-A4\n",
    "C. RZ-1\n",
    "D. A/SF-01\n",
    "Answer: A\n",
    "\n",
    "{{question}}\n",
    "Answer:\n",
    "\"\"\".strip()\n",
    "\n",
    "\n",
    "class MCQAQuestion(BaseModel):\n",
    "    question: str = Field(description=\"The multiple choice question\")\n",
    "\n",
    "\n",
    "regex_caller = Caller(\n",
    "    client=client,\n",
    "    model=model,\n",
    "    request_params={\"temperature\": 0.7},\n",
    "    prompt=Prompt(\n",
    "        name=\"chat\",\n",
    "        description=\"Multiple-choice question answering\",\n",
    "        system_template=JinjaMessageTemplate(role=\"system\", template=template_str, template_vars_model=MCQAQuestion),\n",
    "    ),\n",
    "    handler=ResponseHandler(validator=RegexValidator(pattern=pattern)),\n",
    ")"
   ]
  },
  {
   "cell_type": "code",
   "execution_count": null,
   "metadata": {},
   "outputs": [
    {
     "name": "stdout",
     "output_type": "stream",
     "text": [
      "Success! 🎉\n"
     ]
    }
   ],
   "source": [
    "question = \"\"\"\n",
    "Han Solo is:\n",
    "A. A scoundrel\n",
    "B. A scruffy nerfherder\n",
    "C. A smuggler\n",
    "D. The owner of the Millennium Falcon\n",
    "E. All of the above\n",
    "\"\"\".strip()\n",
    "\n",
    "response = regex_caller(system_vars={\"question\": question}, user_vars=None)\n",
    "\n",
    "if response == \"E\":\n",
    "    print(\"Success! 🎉\")\n",
    "# print(textwrap.fill(response, replace_whitespace=False))"
   ]
  },
  {
   "cell_type": "code",
   "execution_count": null,
   "metadata": {},
   "outputs": [
    {
     "name": "stderr",
     "output_type": "stream",
     "text": [
      "2025-02-09 15:27:54,397 - DEBUG    - yaaal.core.caller - request_params:109 - All API requests for Caller will use params : {'temperature': 0.7}\n"
     ]
    }
   ],
   "source": [
    "# A `StructuredCaller` validates the response with a Pydantic model, and is good for structure data extraction\n",
    "class Person(BaseModel, extra=\"ignore\"):\n",
    "    name: str\n",
    "    age: int\n",
    "    favorite_color: str\n",
    "\n",
    "\n",
    "# Use an fstring to create a jinja prompt --\n",
    "# The fstring allows us to substitute in the Person schema.\n",
    "# Because we're using fstrings, we have to double the `{}`\n",
    "# so python understands they do not indicate an fstring substitution.\n",
    "template_str = f\"\"\"\n",
    "Identify facts about a person as they introduce themselves.\n",
    "\n",
    "Respond in a format that matches the following schema:\n",
    "\n",
    "<schema>\n",
    "{Person.model_json_schema()}\n",
    "</schema>\n",
    "\n",
    "<introduction>\n",
    "{{{{introduction}}}}\n",
    "</introduction>\n",
    "\"\"\".strip()\n",
    "\n",
    "\n",
    "class PersonIntroduction(BaseModel):\n",
    "    introduction: str\n",
    "\n",
    "\n",
    "structured_caller = create_structured_caller(\n",
    "    client=client,\n",
    "    model=model,\n",
    "    request_params={\"temperature\": 0.7},\n",
    "    prompt=Prompt(\n",
    "        name=\"person details\",\n",
    "        description=\"Identify details about a person\",\n",
    "        system_template=JinjaMessageTemplate(\n",
    "            role=\"system\",\n",
    "            template=template_str,\n",
    "            template_vars_model=PersonIntroduction,\n",
    "        ),\n",
    "    ),\n",
    "    response_model=Person,\n",
    ")"
   ]
  },
  {
   "cell_type": "code",
   "execution_count": null,
   "metadata": {},
   "outputs": [
    {
     "name": "stdout",
     "output_type": "stream",
     "text": [
      "<class '__main__.Person'>\n",
      "{\n",
      "  \"name\": \"Bob\",\n",
      "  \"age\": 42,\n",
      "  \"favorite_color\": \"blue\",\n",
      "}\n"
     ]
    }
   ],
   "source": [
    "introduction = \"\"\"\n",
    "Hi, my name is Bob and I'm 42.  I work in a button factory, and my favorite color is blue.\n",
    "\"\"\".strip()\n",
    "\n",
    "response = structured_caller(system_vars={\"introduction\": introduction}, user_vars=None)\n",
    "\n",
    "print(type(response))\n",
    "print(format_json(response.model_dump()))"
   ]
  },
  {
   "cell_type": "markdown",
   "metadata": {},
   "source": [
    "Callers using Pydantic Handlers still return an AssistantMessage; it was validated internally before returning to the user.\n",
    "\n",
    "This means we still have to re-validate if we want the response as a Pydantic model."
   ]
  },
  {
   "cell_type": "code",
   "execution_count": null,
   "metadata": {},
   "outputs": [
    {
     "name": "stderr",
     "output_type": "stream",
     "text": [
      "2025-02-09 15:29:07,947 - DEBUG    - yaaal.core.caller - request_params:109 - All API requests for Caller will use params : {'temperature': 0.7, 'tools': [{'type': 'function', 'function': {'name': 'chat', 'strict': True, 'parameters': {'$defs': {'MCQAQuestion': {'properties': {'question': {'description': 'The multiple choice question', 'title': 'Question', 'type': 'string'}}, 'required': ['question'], 'title': 'MCQAQuestion', 'type': 'object', 'additionalProperties': False}}, 'description': 'Multiple-choice question answering', 'properties': {'system_vars': {'$ref': '#/$defs/MCQAQuestion'}}, 'required': ['system_vars'], 'title': 'chat', 'type': 'object', 'additionalProperties': False}, 'description': 'Multiple-choice question answering'}}, {'type': 'function', 'function': {'name': 'person_details', 'strict': True, 'parameters': {'$defs': {'PersonIntroduction': {'properties': {'introduction': {'title': 'Introduction', 'type': 'string'}}, 'required': ['introduction'], 'title': 'PersonIntroduction', 'type': 'object', 'additionalProperties': False}}, 'description': 'Identify details about a person', 'properties': {'system_vars': {'$ref': '#/$defs/PersonIntroduction'}}, 'required': ['system_vars'], 'title': 'person_details', 'type': 'object', 'additionalProperties': False}, 'description': 'Identify details about a person'}}], 'tool_choice': 'auto'}\n"
     ]
    }
   ],
   "source": [
    "# A `ToolCaller` can choose to call tools or respond like a normal LLM.\n",
    "\n",
    "template_str = \"\"\"Use the best tool for the task.\"\"\".strip()\n",
    "\n",
    "tool_caller = create_tool_caller(\n",
    "    client=client,\n",
    "    model=model,\n",
    "    request_params={\"temperature\": 0.7},\n",
    "    prompt=Prompt(\n",
    "        name=\"tool use\",\n",
    "        description=\"Determine which tool to use\",\n",
    "        system_template=StaticMessageTemplate(role=\"system\", template=template_str),\n",
    "        user_template=PassthroughMessageTemplate(),\n",
    "    ),\n",
    "    toolbox=[regex_caller, structured_caller],  # we can use other callers as tools!\n",
    "    auto_invoke=True,  # we should actually make the recommended tool call\n",
    ")"
   ]
  },
  {
   "cell_type": "code",
   "execution_count": null,
   "metadata": {},
   "outputs": [],
   "source": [
    "# the tool_caller will automatically add the tools to the request parameters\n",
    "print(format_json(tool_caller.request_params))"
   ]
  },
  {
   "cell_type": "code",
   "execution_count": null,
   "metadata": {},
   "outputs": [
    {
     "name": "stderr",
     "output_type": "stream",
     "text": [
      "2025-02-09 15:31:29,813 - DEBUG    - yaaal.core.handler - process:115 - Invoking person_details\n"
     ]
    },
    {
     "name": "stdout",
     "output_type": "stream",
     "text": [
      "<class '__main__.Person'>\n",
      "{\n",
      "  \"name\": \"Bob\",\n",
      "  \"age\": 42,\n",
      "  \"favorite_color\": \"blue\",\n",
      "}\n"
     ]
    }
   ],
   "source": [
    "# this should call the person schema tool\n",
    "\n",
    "introduction = \"\"\"\n",
    "Hi, my name is Bob and I'm 42.  I work in a button factory, and my favorite color is blue.\n",
    "\"\"\".strip()\n",
    "\n",
    "response = tool_caller(\n",
    "    system_vars=None,\n",
    "    user_vars={\"content\": introduction},\n",
    ")\n",
    "\n",
    "print(type(response))\n",
    "print(format_json(response.model_dump()))"
   ]
  },
  {
   "cell_type": "code",
   "execution_count": null,
   "metadata": {},
   "outputs": [
    {
     "name": "stderr",
     "output_type": "stream",
     "text": [
      "2025-02-09 15:31:50,601 - DEBUG    - yaaal.core.handler - process:115 - Invoking chat\n"
     ]
    },
    {
     "name": "stdout",
     "output_type": "stream",
     "text": [
      "<class 'str'>\n",
      "\"E\"\n"
     ]
    }
   ],
   "source": [
    "# this should call the Star Wars QA tool\n",
    "question = \"\"\"\n",
    "Han Solo is:\n",
    "A. A scoundrel\n",
    "B. A scruffy nerfherder\n",
    "C. A smuggler\n",
    "D. The owner of the Millennium Falcon\n",
    "E. All of the above\n",
    "\"\"\".strip()\n",
    "\n",
    "response = tool_caller(\n",
    "    system_vars=None,\n",
    "    user_vars={\"content\": question},\n",
    ")\n",
    "\n",
    "print(type(response))\n",
    "print(format_json(response.model_dump() if isinstance(response, BaseModel) else response))"
   ]
  },
  {
   "cell_type": "code",
   "execution_count": null,
   "metadata": {},
   "outputs": [
    {
     "name": "stderr",
     "output_type": "stream",
     "text": [
      "2025-02-07 18:41:02,550 - DEBUG    - yaaal.core.caller - _handle_with_repair:151 - Repair 0 after error handling response Expected tool call but received none\n"
     ]
    },
    {
     "ename": "ValidationError",
     "evalue": "No repair instructions available",
     "output_type": "error",
     "traceback": [
      "\u001b[0;31m---------------------------------------------------------------------------\u001b[0m",
      "\u001b[0;31mValueError\u001b[0m                                Traceback (most recent call last)",
      "File \u001b[0;32m~/_code/yaaal/src/yaaal/core/caller.py:146\u001b[0m, in \u001b[0;36mCaller._handle_with_repair\u001b[0;34m(self, conversation, response, repair_attempt)\u001b[0m\n\u001b[1;32m    145\u001b[0m \u001b[38;5;28;01mtry\u001b[39;00m:\n\u001b[0;32m--> 146\u001b[0m     \u001b[38;5;28;01mreturn\u001b[39;00m \u001b[38;5;28;43mself\u001b[39;49m\u001b[38;5;241;43m.\u001b[39;49m\u001b[43mhandler\u001b[49m\u001b[43m(\u001b[49m\u001b[43mresponse\u001b[49m\u001b[43m)\u001b[49m\n\u001b[1;32m    147\u001b[0m \u001b[38;5;28;01mexcept\u001b[39;00m \u001b[38;5;167;01mException\u001b[39;00m \u001b[38;5;28;01mas\u001b[39;00m e:\n",
      "File \u001b[0;32m~/_code/yaaal/src/yaaal/core/handler.py:99\u001b[0m, in \u001b[0;36mToolHandler.__call__\u001b[0;34m(self, response)\u001b[0m\n\u001b[1;32m     98\u001b[0m \u001b[38;5;28;01mif\u001b[39;00m \u001b[38;5;129;01mnot\u001b[39;00m msg\u001b[38;5;241m.\u001b[39mtool_calls:\n\u001b[0;32m---> 99\u001b[0m     \u001b[38;5;28;01mraise\u001b[39;00m \u001b[38;5;167;01mValueError\u001b[39;00m(\u001b[38;5;124m\"\u001b[39m\u001b[38;5;124mExpected tool call but received none\u001b[39m\u001b[38;5;124m\"\u001b[39m)\n\u001b[1;32m    101\u001b[0m tool_call \u001b[38;5;241m=\u001b[39m msg\u001b[38;5;241m.\u001b[39mtool_calls[\u001b[38;5;241m0\u001b[39m]\n",
      "\u001b[0;31mValueError\u001b[0m: Expected tool call but received none",
      "\nThe above exception was the direct cause of the following exception:\n",
      "\u001b[0;31mValidationError\u001b[0m                           Traceback (most recent call last)",
      "Cell \u001b[0;32mIn[17], line 2\u001b[0m\n\u001b[1;32m      1\u001b[0m \u001b[38;5;66;03m# this will error because tool_caller *only* calls tools\u001b[39;00m\n\u001b[0;32m----> 2\u001b[0m response \u001b[38;5;241m=\u001b[39m \u001b[43mtool_caller\u001b[49m\u001b[43m(\u001b[49m\n\u001b[1;32m      3\u001b[0m \u001b[43m    \u001b[49m\u001b[43msystem_vars\u001b[49m\u001b[38;5;241;43m=\u001b[39;49m\u001b[38;5;28;43;01mNone\u001b[39;49;00m\u001b[43m,\u001b[49m\n\u001b[1;32m      4\u001b[0m \u001b[43m    \u001b[49m\u001b[43muser_vars\u001b[49m\u001b[38;5;241;43m=\u001b[39;49m\u001b[43m{\u001b[49m\u001b[38;5;124;43m\"\u001b[39;49m\u001b[38;5;124;43mcontent\u001b[39;49m\u001b[38;5;124;43m\"\u001b[39;49m\u001b[43m:\u001b[49m\u001b[43m \u001b[49m\u001b[38;5;124;43m\"\u001b[39;49m\u001b[38;5;124;43mHello world!\u001b[39;49m\u001b[38;5;124;43m\"\u001b[39;49m\u001b[43m}\u001b[49m\u001b[43m,\u001b[49m\n\u001b[1;32m      5\u001b[0m \u001b[43m)\u001b[49m\n\u001b[1;32m      7\u001b[0m \u001b[38;5;28mprint\u001b[39m(\u001b[38;5;28mtype\u001b[39m(response))\n\u001b[1;32m      8\u001b[0m \u001b[38;5;28mprint\u001b[39m(format_json(response\u001b[38;5;241m.\u001b[39mmodel_dump() \u001b[38;5;28;01mif\u001b[39;00m \u001b[38;5;28misinstance\u001b[39m(response, BaseModel) \u001b[38;5;28;01melse\u001b[39;00m response))\n",
      "File \u001b[0;32m~/_code/yaaal/src/yaaal/core/caller.py:130\u001b[0m, in \u001b[0;36mCaller.__call__\u001b[0;34m(self, system_vars, user_vars, conversation)\u001b[0m\n\u001b[1;32m    127\u001b[0m     conversation \u001b[38;5;241m=\u001b[39m rendered\n\u001b[1;32m    129\u001b[0m response \u001b[38;5;241m=\u001b[39m \u001b[38;5;28mself\u001b[39m\u001b[38;5;241m.\u001b[39m_chat_completions_create(conversation)\n\u001b[0;32m--> 130\u001b[0m \u001b[38;5;28;01mreturn\u001b[39;00m \u001b[38;5;28;43mself\u001b[39;49m\u001b[38;5;241;43m.\u001b[39;49m\u001b[43m_handle_with_repair\u001b[49m\u001b[43m(\u001b[49m\u001b[43mconversation\u001b[49m\u001b[38;5;241;43m=\u001b[39;49m\u001b[43mconversation\u001b[49m\u001b[43m,\u001b[49m\u001b[43m \u001b[49m\u001b[43mresponse\u001b[49m\u001b[38;5;241;43m=\u001b[39;49m\u001b[43mresponse\u001b[49m\u001b[43m)\u001b[49m\n",
      "File \u001b[0;32m~/_code/yaaal/src/yaaal/core/caller.py:156\u001b[0m, in \u001b[0;36mCaller._handle_with_repair\u001b[0;34m(self, conversation, response, repair_attempt)\u001b[0m\n\u001b[1;32m    153\u001b[0m repair_prompt \u001b[38;5;241m=\u001b[39m \u001b[38;5;28mself\u001b[39m\u001b[38;5;241m.\u001b[39mhandler\u001b[38;5;241m.\u001b[39mrepair(msg, \u001b[38;5;28mstr\u001b[39m(e))\n\u001b[1;32m    155\u001b[0m \u001b[38;5;28;01mif\u001b[39;00m \u001b[38;5;129;01mnot\u001b[39;00m repair_prompt:\n\u001b[0;32m--> 156\u001b[0m     \u001b[38;5;28;01mraise\u001b[39;00m ValidationError(\u001b[38;5;124m\"\u001b[39m\u001b[38;5;124mNo repair instructions available\u001b[39m\u001b[38;5;124m\"\u001b[39m) \u001b[38;5;28;01mfrom\u001b[39;00m\u001b[38;5;250m \u001b[39m\u001b[38;5;21;01me\u001b[39;00m\n\u001b[1;32m    158\u001b[0m conversation\u001b[38;5;241m.\u001b[39mmessages\u001b[38;5;241m.\u001b[39mextend(repair_prompt\u001b[38;5;241m.\u001b[39mmessages)\n\u001b[1;32m    159\u001b[0m new_response \u001b[38;5;241m=\u001b[39m \u001b[38;5;28mself\u001b[39m\u001b[38;5;241m.\u001b[39m_chat_completions_create(conversation)\n",
      "\u001b[0;31mValidationError\u001b[0m: No repair instructions available"
     ]
    }
   ],
   "source": [
    "# this will error because tool_caller *only* calls tools\n",
    "response = tool_caller(\n",
    "    system_vars=None,\n",
    "    user_vars={\"content\": \"Hello world!\"},\n",
    ")\n",
    "\n",
    "print(type(response))\n",
    "print(format_json(response.model_dump() if isinstance(response, BaseModel) else response))"
   ]
  },
  {
   "cell_type": "markdown",
   "metadata": {},
   "source": [
    "A `tool_caller` as created above *only* calls tools.\n",
    "To make a `Caller` that is also able to use standard chat completions, use a `CompositeHandler`"
   ]
  },
  {
   "cell_type": "code",
   "execution_count": null,
   "metadata": {},
   "outputs": [
    {
     "name": "stderr",
     "output_type": "stream",
     "text": [
      "2025-02-09 15:32:10,127 - DEBUG    - yaaal.core.caller - request_params:109 - All API requests for Caller will use params : {'temperature': 0.7}\n"
     ]
    }
   ],
   "source": [
    "all_caller = Caller(\n",
    "    client=client,\n",
    "    model=model,\n",
    "    request_params={\"temperature\": 0.7},\n",
    "    prompt=Prompt(\n",
    "        name=\"tool use\",\n",
    "        description=\"Determine which tool to use\",\n",
    "        system_template=StaticMessageTemplate(role=\"system\", template=template_str),\n",
    "        user_template=PassthroughMessageTemplate(),\n",
    "    ),\n",
    "    handler=CompositeHandler(\n",
    "        content_handler=ResponseHandler(PassthroughValidator()),\n",
    "        tool_handler=ToolHandler(\n",
    "            validator=ToolValidator(\n",
    "                toolbox=[regex_caller, structured_caller],  # we can use other callers as tools!\n",
    "            ),\n",
    "            auto_invoke=True,  # we should actually make the recommended tool call\n",
    "        ),\n",
    "    ),\n",
    ")"
   ]
  },
  {
   "cell_type": "code",
   "execution_count": null,
   "metadata": {},
   "outputs": [
    {
     "name": "stdout",
     "output_type": "stream",
     "text": [
      "<class 'str'>\n",
      "\"Hello! How can I assist you today?\"\n"
     ]
    }
   ],
   "source": [
    "response = all_caller(\n",
    "    system_vars=None,\n",
    "    user_vars={\"content\": \"Hello world!\"},\n",
    ")\n",
    "\n",
    "print(type(response))\n",
    "print(format_json(response.model_dump() if isinstance(response, BaseModel) else response))"
   ]
  },
  {
   "cell_type": "code",
   "execution_count": null,
   "metadata": {},
   "outputs": [
    {
     "name": "stdout",
     "output_type": "stream",
     "text": [
      "<class 'str'>\n",
      "\"E. All of the above\"\n"
     ]
    }
   ],
   "source": [
    "# this should call the Star Wars QA tool\n",
    "question = \"\"\"\n",
    "Han Solo is:\n",
    "A. A scoundrel\n",
    "B. A scruffy nerfherder\n",
    "C. A smuggler\n",
    "D. The owner of the Millennium Falcon\n",
    "E. All of the above\n",
    "\"\"\".strip()\n",
    "\n",
    "response = all_caller(\n",
    "    system_vars=None,\n",
    "    user_vars={\"content\": question},\n",
    ")\n",
    "\n",
    "print(type(response))\n",
    "print(format_json(response.model_dump() if isinstance(response, BaseModel) else response))"
   ]
  },
  {
   "cell_type": "code",
   "execution_count": null,
   "metadata": {},
   "outputs": [],
   "source": []
  }
 ],
 "metadata": {
  "language_info": {
   "name": "python",
   "pygments_lexer": "ipython3"
  }
 },
 "nbformat": 4,
 "nbformat_minor": 2
}
