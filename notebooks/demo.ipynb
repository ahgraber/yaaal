{
 "cells": [
  {
   "cell_type": "code",
   "execution_count": null,
   "metadata": {},
   "outputs": [],
   "source": [
    "import logging\n",
    "import os\n",
    "\n",
    "from dotenv import load_dotenv\n",
    "\n",
    "import openai\n",
    "\n",
    "from yaaal.core import JSON, Caller, Conversation, Message, PydanticResponseValidatorMixin\n",
    "from yaaal.core.tools import CallableWithSignature, respond_as_tool\n",
    "from yaaal.prompts import Extract, ExtractorPrompt, MemoWriterPrompt, SummarizerPrompt, Summary\n",
    "from yaaal.tools.web import get_page_content\n",
    "from yaaal.utilities import basic_log_config"
   ]
  },
  {
   "cell_type": "code",
   "execution_count": null,
   "metadata": {},
   "outputs": [],
   "source": [
    "%load_ext autoreload\n",
    "%autoreload 2"
   ]
  },
  {
   "cell_type": "code",
   "execution_count": null,
   "metadata": {},
   "outputs": [],
   "source": [
    "logger = logging.getLogger(__name__)\n",
    "basic_log_config(logger)"
   ]
  },
  {
   "cell_type": "code",
   "execution_count": null,
   "metadata": {},
   "outputs": [],
   "source": [
    "current_events = get_page_content(\"https://en.wikipedia.org/wiki/Portal:Current_events\")"
   ]
  },
  {
   "cell_type": "code",
   "execution_count": null,
   "metadata": {},
   "outputs": [],
   "source": [
    "_ = load_dotenv()\n",
    "if \"YAAAL_OPENAI_API_KEY\" not in os.environ:\n",
    "    raise KeyError(\"YAAAL_OPENAI_API_KEY was not found in environment!\")\n",
    "\n",
    "openai_client = openai.Client(api_key=os.environ[\"YAAAL_OPENAI_API_KEY\"])"
   ]
  },
  {
   "cell_type": "code",
   "execution_count": null,
   "metadata": {},
   "outputs": [],
   "source": [
    "class Summarizer(PydanticResponseValidatorMixin, Caller):\n",
    "    def __init__(\n",
    "        self, client, request_params: dict[str, JSON], toolbox: list[Caller | CallableWithSignature] | None = None\n",
    "    ):\n",
    "        self.client = client\n",
    "        self.prompt = SummarizerPrompt\n",
    "        self.request_params = request_params\n",
    "        self.toolbox = toolbox\n",
    "        self.response_validator = Summary\n",
    "\n",
    "        if self.toolbox:\n",
    "            self.request_params[\"tools\"] = [openai.pydantic_function_tool(tool) for tool in self.toolbox.values()]\n",
    "\n",
    "    def __call__(self, *, system_vars: dict, user_vars: dict | None):\n",
    "        conversation = self.prompt.render(system_vars=system_vars, user_vars=user_vars)\n",
    "        response = self.client.chat.completions.create(\n",
    "            messages=conversation.model_dump()[\"messages\"],\n",
    "            **self.request_params,\n",
    "        )\n",
    "        content = response.choices[0].message.content\n",
    "\n",
    "        try:\n",
    "            validated = self.validate(response)\n",
    "        except Exception as e:\n",
    "            logger.debug(f\"Attempting fix for exception raised during validation: {e}\")\n",
    "            repair_messages = self.render_repair(\n",
    "                response_content=response.choices[0].message.content,\n",
    "                exception=str(e),\n",
    "            )\n",
    "            conversation.messages.extend(repair_messages.messages)\n",
    "\n",
    "            response = self.client.chat.completions.create(\n",
    "                messages=conversation.model_dump()[\"messages\"],\n",
    "                **self.request_params,\n",
    "            )\n",
    "            content = response.choices[0].message.content\n",
    "            return self.validate(content)\n",
    "\n",
    "        return validated"
   ]
  },
  {
   "cell_type": "code",
   "execution_count": null,
   "metadata": {},
   "outputs": [],
   "source": [
    "summarizer = Summarizer(client=openai_client, request_params={\"model\": \"gpt-4o-mini\", \"temperature\": 0.5})"
   ]
  },
  {
   "cell_type": "code",
   "execution_count": null,
   "metadata": {},
   "outputs": [],
   "source": [
    "summarizer.prompt.render(\n",
    "    system_vars={\"source\": current_events}, user_vars={\"guidance\": \"What's happening in the world today?\"}\n",
    ").model_dump()[\"messages\"]"
   ]
  },
  {
   "cell_type": "code",
   "execution_count": null,
   "metadata": {},
   "outputs": [],
   "source": [
    "summary = summarizer(\n",
    "    system_vars={\"source\": current_events}, user_vars={\"guidance\": \"What's happening in the world today?\"}\n",
    ")\n",
    "print(summary.model_dump_json(indent=2))"
   ]
  },
  {
   "cell_type": "code",
   "execution_count": null,
   "metadata": {},
   "outputs": [],
   "source": [
    "# TODO\n",
    "# simple prompts\n",
    "# simple Callers\n",
    "# Caller validations\n",
    "# Tool Callers\n",
    "# Nested Tool Callers"
   ]
  },
  {
   "cell_type": "code",
   "execution_count": null,
   "metadata": {},
   "outputs": [],
   "source": [
    "get_page_content.signature().model_json_schema()"
   ]
  },
  {
   "cell_type": "code",
   "execution_count": null,
   "metadata": {},
   "outputs": [],
   "source": [
    "# TODO:\n",
    "# callers may need context of current conversation to make the correct tool choice or influence the generation\n",
    "# NOTE: Callers should NOT modify the current conversation!"
   ]
  }
 ],
 "metadata": {
  "kernelspec": {
   "display_name": ".venv",
   "language": "python",
   "name": "python3"
  },
  "language_info": {
   "codemirror_mode": {
    "name": "ipython",
    "version": 3
   },
   "file_extension": ".py",
   "mimetype": "text/x-python",
   "name": "python",
   "nbconvert_exporter": "python",
   "pygments_lexer": "ipython3",
   "version": "3.12.7"
  }
 },
 "nbformat": 4,
 "nbformat_minor": 2
}
